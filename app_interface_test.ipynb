{
 "cells": [
  {
   "cell_type": "code",
   "execution_count": 41,
   "metadata": {},
   "outputs": [],
   "source": [
    "import csv\n",
    "import numpy as np\n",
    "import pandas as pd\n",
    "import gradio as gr\n",
    "import joblib as jb\n",
    "import os.path as path\n",
    "\n",
    "import warnings\n",
    "warnings.filterwarnings(\"ignore\")"
   ]
  },
  {
   "cell_type": "code",
   "execution_count": 42,
   "metadata": {},
   "outputs": [],
   "source": [
    "# Loading features names\n",
    "file_csv = path.join(\"model\" ,\"model_features.csv\")\n",
    "with open(file_csv) as f:\n",
    "    reader = csv.reader(f)\n",
    "    data = list(reader)\n",
    "\n",
    "features = data[0]\n",
    "\n",
    "# Creating a list with accident types\n",
    "accident_type_list = [None,\n",
    "                      \"type_ATROPELAMENTO\",\n",
    "                      \"type_CHOQUE\",\n",
    "                      \"type_COLISÃO\",\n",
    "                      \"type_OUTROS\"]\n",
    "\n",
    "# Loading the scaler\n",
    "file_scaler_feridos = path.join(\"model\" ,\"scaler_feridos.pkl\")\n",
    "scaler_feridos = jb.load(file_scaler_feridos)\n",
    "\n",
    "# Loading the model\n",
    "file_model_feridos = path.join(\"model\" ,\"model_feridos.pkl\")\n",
    "model_feridos = jb.load(file_model_feridos)"
   ]
  },
  {
   "cell_type": "code",
   "execution_count": 43,
   "metadata": {},
   "outputs": [],
   "source": [
    "def fit_inputs_injured(latitude, \n",
    "        longitude,\n",
    "        caminhao,\n",
    "        moto,\n",
    "        cars,\n",
    "        transport,\n",
    "        others,\n",
    "        holiday,\n",
    "        week_day,\n",
    "        hour_day,\n",
    "        accident_type):\n",
    "    \"\"\"This function will process data input\n",
    "    from use to use in the model\"\"\"\n",
    "    input_dict = {col: False for col in features}\n",
    "\n",
    "    input_dict[\"latitude\"] = latitude\n",
    "    input_dict[\"longitude\"] = longitude\n",
    "    input_dict[\"caminhao\"] = caminhao\n",
    "    input_dict[\"moto\"] = moto\n",
    "    input_dict[\"cars\"] = cars\n",
    "    input_dict[\"transport\"] = transport\n",
    "    input_dict[\"others\"] = others\n",
    "    input_dict[\"holiday\"] = holiday\n",
    "\n",
    "    if week_day != 0:\n",
    "        input_dict[\"day_\" + str(week_day)] = True\n",
    "\n",
    "    if hour_day != 0:\n",
    "        input_dict[\"hour_\" + str(hour_day)] = True\n",
    "\n",
    "    if accident_type != 0:\n",
    "        input_dict[accident_type_list[accident_type]] = True\n",
    "\n",
    "    input_series = pd.Series(input_dict)\n",
    "\n",
    "    input_array = input_series.to_numpy().reshape(1,-1)\n",
    "\n",
    "    input_scaled = scaler_feridos.transform(input_array)\n",
    "\n",
    "    return input_scaled"
   ]
  },
  {
   "cell_type": "code",
   "execution_count": 45,
   "metadata": {},
   "outputs": [
    {
     "name": "stdout",
     "output_type": "stream",
     "text": [
      "Running on local URL:  http://127.0.0.1:7873\n",
      "\n",
      "To create a public link, set `share=True` in `launch()`.\n"
     ]
    },
    {
     "data": {
      "text/html": [
       "<div><iframe src=\"http://127.0.0.1:7873/\" width=\"900\" height=\"500\" allow=\"autoplay; camera; microphone;\" frameborder=\"0\" allowfullscreen></iframe></div>"
      ],
      "text/plain": [
       "<IPython.core.display.HTML object>"
      ]
     },
     "metadata": {},
     "output_type": "display_data"
    },
    {
     "data": {
      "text/plain": [
       "(<gradio.routes.App at 0x1ecff8cf7c0>, 'http://127.0.0.1:7873/', None)"
      ]
     },
     "execution_count": 45,
     "metadata": {},
     "output_type": "execute_result"
    }
   ],
   "source": [
    "def predict(\n",
    "        latitude, \n",
    "        longitude,\n",
    "        caminhao,\n",
    "        moto,\n",
    "        cars,\n",
    "        transport,\n",
    "        others,\n",
    "        holiday,\n",
    "        week_day,\n",
    "        hour_day,\n",
    "        accident_type):\n",
    "    \"\"\"This function will be call by gradio\n",
    "    when on submit action.\"\"\"\n",
    "\n",
    "    input_to_predict = fit_inputs_injured(latitude, \n",
    "        longitude,\n",
    "        caminhao,\n",
    "        moto,\n",
    "        cars,\n",
    "        transport,\n",
    "        others,\n",
    "        holiday,\n",
    "        week_day,\n",
    "        hour_day,\n",
    "        accident_type)\n",
    "\n",
    "    predic_injured = model_feridos.predict_proba(input_to_predict)\n",
    "\n",
    "    return {\"No\": predic_injured[0][0], \"Yes\": predic_injured[0][1]}, \"Teste\"\n",
    "\n",
    "demo = gr.Interface(\n",
    "    fn=predict,\n",
    "    inputs=[gr.Slider(\n",
    "                minimum=-31.054,\n",
    "                maximum=-29.054,\n",
    "                step=0.001,\n",
    "                value=-30.054,\n",
    "                label=\"Latitude\"),\n",
    "            gr.Slider(\n",
    "                minimum=-52.196,\n",
    "                maximum=-50.196,\n",
    "                step=0.001,\n",
    "                value=-51.196,\n",
    "                label=\"Longitude\"),\n",
    "            gr.Checkbox(label=\"Trucks involved?\"),\n",
    "            gr.Checkbox(label=\"Motorcycle involved?\"),    \n",
    "            gr.Checkbox(label=\"Cars involved?\"),\n",
    "            gr.Checkbox(label=\"Bus involved?\"),\n",
    "            gr.Checkbox(label=\"Other vehicle (i.e. scooter) involved?\"),\n",
    "            gr.Checkbox(label=\"Is holiday?\"),\n",
    "            gr.Radio(\n",
    "                choices=[\"Sun\", \"Mon\",\n",
    "                         \"Tue\", \"Wed\",\n",
    "                         \"Thu\", \"Fri\",\n",
    "                         \"Sat\"],\n",
    "                type=\"index\",\n",
    "                label=\"Day of Week\"),\n",
    "            gr.Slider(\n",
    "                minimum=0,\n",
    "                maximum=23,\n",
    "                step=1,\n",
    "                label=\"Hour\"),\n",
    "            gr.Dropdown(\n",
    "                choices=[\"Violent Collision\",\n",
    "                         \"Running over\",\n",
    "                         \"Shock\",\n",
    "                         \"Collision\",\n",
    "                         \"Other\"],\n",
    "                type=\"index\",\n",
    "                label=\"Accident type\")],\n",
    "    outputs=[gr.Label(\n",
    "        label=\"Are there people injured?\"),\n",
    "            \"text\"])\n",
    "\n",
    "demo.launch()"
   ]
  }
 ],
 "metadata": {
  "kernelspec": {
   "display_name": "Python 3.10.6 64-bit",
   "language": "python",
   "name": "python3"
  },
  "language_info": {
   "codemirror_mode": {
    "name": "ipython",
    "version": 3
   },
   "file_extension": ".py",
   "mimetype": "text/x-python",
   "name": "python",
   "nbconvert_exporter": "python",
   "pygments_lexer": "ipython3",
   "version": "3.10.6"
  },
  "orig_nbformat": 4,
  "vscode": {
   "interpreter": {
    "hash": "1372d04dbd71fdc5436c5d6e671c1b9287e750e86143c81b5a7ba0acaf653c5e"
   }
  }
 },
 "nbformat": 4,
 "nbformat_minor": 2
}
